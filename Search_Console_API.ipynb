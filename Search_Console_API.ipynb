{
  "nbformat": 4,
  "nbformat_minor": 0,
  "metadata": {
    "colab": {
      "name": "Search Console API.ipynb",
      "provenance": [],
      "collapsed_sections": [],
      "authorship_tag": "ABX9TyPls8y62BwoFqgYzu5lGmJ9",
      "include_colab_link": true
    },
    "kernelspec": {
      "name": "python3",
      "display_name": "Python 3"
    }
  },
  "cells": [
    {
      "cell_type": "markdown",
      "metadata": {
        "id": "view-in-github",
        "colab_type": "text"
      },
      "source": [
        "<a href=\"https://colab.research.google.com/github/FazilShah/Search-Console-API/blob/master/Search_Console_API.ipynb\" target=\"_parent\"><img src=\"https://colab.research.google.com/assets/colab-badge.svg\" alt=\"Open In Colab\"/></a>"
      ]
    },
    {
      "cell_type": "code",
      "metadata": {
        "id": "yJnIl2jdsbJC",
        "colab_type": "code",
        "colab": {
          "base_uri": "https://localhost:8080/",
          "height": 71
        },
        "outputId": "cd94b398-9e71-44df-a97a-51af007edee9"
      },
      "source": [
        "from oauth2client.service_account import ServiceAccountCredentials\n",
        "import httplib2\n",
        "\n",
        "SCOPES = [ \"https://www.googleapis.com/auth/indexing\" ]\n",
        "ENDPOINT = \"https://indexing.googleapis.com/v3/urlNotifications:publish\"\n",
        "\n",
        "# service_account_file.json is the private key that you created for your service account.\n",
        "JSON_KEY_FILE = \"search-console-final-call-987387f7c5a7.json\"\n",
        "\n",
        "credentials = ServiceAccountCredentials.from_json_keyfile_name(JSON_KEY_FILE, scopes=SCOPES)\n",
        "\n",
        "http = credentials.authorize(httplib2.Http())\n",
        "\n",
        "# Define contents here as a JSON string.\n",
        "# This example shows a simple update request.\n",
        "# Other types of requests are described in the next step.\n",
        "\n",
        "content = \"\"\"{\n",
        "  \"url\": \"https://taskmasters.ae/ac-services-dubai/\",\n",
        "  \"type\": \"URL_UPDATED\"\n",
        "}\"\"\"\n",
        "\n",
        "response, content = http.request(ENDPOINT, method=\"POST\", body=content)\n",
        "print(response)\n",
        "print(content)"
      ],
      "execution_count": null,
      "outputs": [
        {
          "output_type": "stream",
          "text": [
            "{'content-type': 'application/json; charset=UTF-8', 'vary': 'Origin, X-Origin, Referer', 'date': 'Mon, 20 Jan 2020 10:26:00 GMT', 'server': 'ESF', 'cache-control': 'private', 'x-xss-protection': '0', 'x-frame-options': 'SAMEORIGIN', 'x-content-type-options': 'nosniff', 'transfer-encoding': 'chunked', 'status': '200', 'content-length': '263', '-content-encoding': 'gzip'}\n",
            "b'{\\n  \"urlNotificationMetadata\": {\\n    \"url\": \"https://taskmasters.ae/ac-services-dubai/\",\\n    \"latestUpdate\": {\\n      \"url\": \"https://taskmasters.ae/ac-services-dubai/\",\\n      \"type\": \"URL_UPDATED\",\\n      \"notifyTime\": \"2020-01-20T10:26:00.002235770Z\"\\n    }\\n  }\\n}\\n'\n"
          ],
          "name": "stdout"
        }
      ]
    }
  ]
}